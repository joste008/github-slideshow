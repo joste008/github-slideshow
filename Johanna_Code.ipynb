{
  "nbformat": 4,
  "nbformat_minor": 0,
  "metadata": {
    "colab": {
      "name": "Johanna_Code",
      "provenance": [],
      "collapsed_sections": [],
      "include_colab_link": true
    },
    "kernelspec": {
      "name": "python3",
      "display_name": "Python 3"
    },
    "language_info": {
      "name": "python"
    }
  },
  "cells": [
    {
      "cell_type": "markdown",
      "metadata": {
        "id": "view-in-github",
        "colab_type": "text"
      },
      "source": [
        "<a href=\"https://colab.research.google.com/github/joste008/github-slideshow/blob/main/Johanna_Code.ipynb\" target=\"_parent\"><img src=\"https://colab.research.google.com/assets/colab-badge.svg\" alt=\"Open In Colab\"/></a>"
      ]
    },
    {
      "cell_type": "code",
      "metadata": {
        "colab": {
          "base_uri": "https://localhost:8080/",
          "height": 1000
        },
        "id": "IWdMONa_1dMM",
        "outputId": "e7c58572-23ab-4289-ab43-a4377013438e"
      },
      "source": [
        " !pip install qiskit"
      ],
      "execution_count": 4,
      "outputs": [
        {
          "output_type": "stream",
          "name": "stdout",
          "text": [
            "Collecting qiskit\n",
            "  Downloading qiskit-0.30.0.tar.gz (12 kB)\n",
            "Collecting qiskit-terra==0.18.2\n",
            "  Downloading qiskit_terra-0.18.2-cp37-cp37m-manylinux2010_x86_64.whl (6.1 MB)\n",
            "\u001b[K     |████████████████████████████████| 6.1 MB 5.4 MB/s \n",
            "\u001b[?25hCollecting qiskit-aer==0.9.0\n",
            "  Downloading qiskit_aer-0.9.0-cp37-cp37m-manylinux_2_12_x86_64.manylinux2010_x86_64.whl (17.9 MB)\n",
            "\u001b[K     |████████████████████████████████| 17.9 MB 95 kB/s \n",
            "\u001b[?25hCollecting qiskit-ibmq-provider==0.16.0\n",
            "  Downloading qiskit_ibmq_provider-0.16.0-py3-none-any.whl (235 kB)\n",
            "\u001b[K     |████████████████████████████████| 235 kB 69.5 MB/s \n",
            "\u001b[?25hCollecting qiskit-ignis==0.6.0\n",
            "  Downloading qiskit_ignis-0.6.0-py3-none-any.whl (207 kB)\n",
            "\u001b[K     |████████████████████████████████| 207 kB 71.7 MB/s \n",
            "\u001b[?25hCollecting qiskit-aqua==0.9.5\n",
            "  Downloading qiskit_aqua-0.9.5-py3-none-any.whl (2.1 MB)\n",
            "\u001b[K     |████████████████████████████████| 2.1 MB 58.5 MB/s \n",
            "\u001b[?25hCollecting pybind11>=2.6\n",
            "  Downloading pybind11-2.7.1-py2.py3-none-any.whl (200 kB)\n",
            "\u001b[K     |████████████████████████████████| 200 kB 55.4 MB/s \n",
            "\u001b[?25hRequirement already satisfied: scipy>=1.0 in /usr/local/lib/python3.7/dist-packages (from qiskit-aer==0.9.0->qiskit) (1.4.1)\n",
            "Requirement already satisfied: numpy>=1.16.3 in /usr/local/lib/python3.7/dist-packages (from qiskit-aer==0.9.0->qiskit) (1.19.5)\n",
            "Requirement already satisfied: h5py<3.3.0 in /usr/local/lib/python3.7/dist-packages (from qiskit-aqua==0.9.5->qiskit) (3.1.0)\n",
            "Requirement already satisfied: fastdtw<=0.3.4 in /usr/local/lib/python3.7/dist-packages (from qiskit-aqua==0.9.5->qiskit) (0.3.4)\n",
            "Collecting dlx<=1.0.4\n",
            "  Downloading dlx-1.0.4.tar.gz (5.5 kB)\n",
            "Collecting retworkx>=0.8.0\n",
            "  Downloading retworkx-0.10.2-cp37-cp37m-manylinux_2_5_x86_64.manylinux1_x86_64.manylinux_2_12_x86_64.manylinux2010_x86_64.whl (1.4 MB)\n",
            "\u001b[K     |████████████████████████████████| 1.4 MB 42.2 MB/s \n",
            "\u001b[?25hRequirement already satisfied: pandas in /usr/local/lib/python3.7/dist-packages (from qiskit-aqua==0.9.5->qiskit) (1.1.5)\n",
            "Requirement already satisfied: scikit-learn>=0.20.0 in /usr/local/lib/python3.7/dist-packages (from qiskit-aqua==0.9.5->qiskit) (0.22.2.post1)\n",
            "Collecting yfinance>=0.1.62\n",
            "  Downloading yfinance-0.1.63.tar.gz (26 kB)\n",
            "Requirement already satisfied: setuptools>=40.1.0 in /usr/local/lib/python3.7/dist-packages (from qiskit-aqua==0.9.5->qiskit) (57.4.0)\n",
            "Collecting docplex>=2.21.207\n",
            "  Downloading docplex-2.22.213.tar.gz (634 kB)\n",
            "\u001b[K     |████████████████████████████████| 634 kB 42.6 MB/s \n",
            "\u001b[?25hRequirement already satisfied: psutil>=5 in /usr/local/lib/python3.7/dist-packages (from qiskit-aqua==0.9.5->qiskit) (5.4.8)\n",
            "Requirement already satisfied: sympy>=1.3 in /usr/local/lib/python3.7/dist-packages (from qiskit-aqua==0.9.5->qiskit) (1.7.1)\n",
            "Collecting quandl\n",
            "  Downloading Quandl-3.6.1-py2.py3-none-any.whl (26 kB)\n",
            "Requirement already satisfied: urllib3>=1.21.1 in /usr/local/lib/python3.7/dist-packages (from qiskit-ibmq-provider==0.16.0->qiskit) (1.24.3)\n",
            "Collecting requests-ntlm>=1.1.0\n",
            "  Downloading requests_ntlm-1.1.0-py2.py3-none-any.whl (5.7 kB)\n",
            "Requirement already satisfied: python-dateutil>=2.8.0 in /usr/local/lib/python3.7/dist-packages (from qiskit-ibmq-provider==0.16.0->qiskit) (2.8.2)\n",
            "Requirement already satisfied: requests>=2.19 in /usr/local/lib/python3.7/dist-packages (from qiskit-ibmq-provider==0.16.0->qiskit) (2.23.0)\n",
            "Collecting websocket-client>=1.0.1\n",
            "  Downloading websocket_client-1.2.1-py2.py3-none-any.whl (52 kB)\n",
            "\u001b[K     |████████████████████████████████| 52 kB 1.2 MB/s \n",
            "\u001b[?25hCollecting symengine>0.7\n",
            "  Downloading symengine-0.8.1-cp37-cp37m-manylinux2010_x86_64.whl (38.2 MB)\n",
            "\u001b[K     |████████████████████████████████| 38.2 MB 24 kB/s \n",
            "\u001b[?25hCollecting fastjsonschema>=2.10\n",
            "  Downloading fastjsonschema-2.15.1-py3-none-any.whl (21 kB)\n",
            "Collecting tweedledum<2.0,>=1.1\n",
            "  Downloading tweedledum-1.1.1-cp37-cp37m-manylinux_2_12_x86_64.manylinux2010_x86_64.whl (943 kB)\n",
            "\u001b[K     |████████████████████████████████| 943 kB 46.1 MB/s \n",
            "\u001b[?25hCollecting ply>=3.10\n",
            "  Downloading ply-3.11-py2.py3-none-any.whl (49 kB)\n",
            "\u001b[K     |████████████████████████████████| 49 kB 5.7 MB/s \n",
            "\u001b[?25hRequirement already satisfied: dill>=0.3 in /usr/local/lib/python3.7/dist-packages (from qiskit-terra==0.18.2->qiskit) (0.3.4)\n",
            "Collecting python-constraint>=1.4\n",
            "  Downloading python-constraint-1.4.0.tar.bz2 (18 kB)\n",
            "Requirement already satisfied: jsonschema>=2.6 in /usr/local/lib/python3.7/dist-packages (from qiskit-terra==0.18.2->qiskit) (2.6.0)\n",
            "Requirement already satisfied: six in /usr/local/lib/python3.7/dist-packages (from docplex>=2.21.207->qiskit-aqua==0.9.5->qiskit) (1.15.0)\n",
            "Requirement already satisfied: cached-property in /usr/local/lib/python3.7/dist-packages (from h5py<3.3.0->qiskit-aqua==0.9.5->qiskit) (1.5.2)\n",
            "Requirement already satisfied: idna<3,>=2.5 in /usr/local/lib/python3.7/dist-packages (from requests>=2.19->qiskit-ibmq-provider==0.16.0->qiskit) (2.10)\n",
            "Requirement already satisfied: certifi>=2017.4.17 in /usr/local/lib/python3.7/dist-packages (from requests>=2.19->qiskit-ibmq-provider==0.16.0->qiskit) (2021.5.30)\n",
            "Requirement already satisfied: chardet<4,>=3.0.2 in /usr/local/lib/python3.7/dist-packages (from requests>=2.19->qiskit-ibmq-provider==0.16.0->qiskit) (3.0.4)\n",
            "Collecting ntlm-auth>=1.0.2\n",
            "  Downloading ntlm_auth-1.5.0-py2.py3-none-any.whl (29 kB)\n",
            "Collecting cryptography>=1.3\n",
            "  Downloading cryptography-3.4.8-cp36-abi3-manylinux_2_24_x86_64.whl (3.0 MB)\n",
            "\u001b[K     |████████████████████████████████| 3.0 MB 44.8 MB/s \n",
            "\u001b[?25hRequirement already satisfied: cffi>=1.12 in /usr/local/lib/python3.7/dist-packages (from cryptography>=1.3->requests-ntlm>=1.1.0->qiskit-ibmq-provider==0.16.0->qiskit) (1.14.6)\n",
            "Requirement already satisfied: pycparser in /usr/local/lib/python3.7/dist-packages (from cffi>=1.12->cryptography>=1.3->requests-ntlm>=1.1.0->qiskit-ibmq-provider==0.16.0->qiskit) (2.20)\n",
            "Requirement already satisfied: joblib>=0.11 in /usr/local/lib/python3.7/dist-packages (from scikit-learn>=0.20.0->qiskit-aqua==0.9.5->qiskit) (1.0.1)\n",
            "Requirement already satisfied: mpmath>=0.19 in /usr/local/lib/python3.7/dist-packages (from sympy>=1.3->qiskit-aqua==0.9.5->qiskit) (1.2.1)\n",
            "Requirement already satisfied: multitasking>=0.0.7 in /usr/local/lib/python3.7/dist-packages (from yfinance>=0.1.62->qiskit-aqua==0.9.5->qiskit) (0.0.9)\n",
            "Collecting lxml>=4.5.1\n",
            "  Downloading lxml-4.6.3-cp37-cp37m-manylinux2014_x86_64.whl (6.3 MB)\n",
            "\u001b[K     |████████████████████████████████| 6.3 MB 44.3 MB/s \n",
            "\u001b[?25hRequirement already satisfied: pytz>=2017.2 in /usr/local/lib/python3.7/dist-packages (from pandas->qiskit-aqua==0.9.5->qiskit) (2018.9)\n",
            "Collecting inflection>=0.3.1\n",
            "  Downloading inflection-0.5.1-py2.py3-none-any.whl (9.5 kB)\n",
            "Requirement already satisfied: more-itertools in /usr/local/lib/python3.7/dist-packages (from quandl->qiskit-aqua==0.9.5->qiskit) (8.9.0)\n",
            "Building wheels for collected packages: qiskit, dlx, docplex, python-constraint, yfinance\n",
            "  Building wheel for qiskit (setup.py) ... \u001b[?25l\u001b[?25hdone\n",
            "  Created wheel for qiskit: filename=qiskit-0.30.0-py3-none-any.whl size=11273 sha256=d28d8fb021583de3a5cc17cc1b6f13cdda5cb2ec01801c64de77f26fdfbd8b9f\n",
            "  Stored in directory: /root/.cache/pip/wheels/30/2b/0f/42f529b566315599b81731f2a58728da92883b00cccb78b6c1\n",
            "  Building wheel for dlx (setup.py) ... \u001b[?25l\u001b[?25hdone\n",
            "  Created wheel for dlx: filename=dlx-1.0.4-py3-none-any.whl size=5719 sha256=70a8e4474d90df32a230eb0c183afb299ba0b5dfabb23e4e8321e6c3c5001d1c\n",
            "  Stored in directory: /root/.cache/pip/wheels/78/55/c8/dc61e772445a566b7608a476d151e9dcaf4e092b01b0c4bc3c\n",
            "  Building wheel for docplex (setup.py) ... \u001b[?25l\u001b[?25hdone\n",
            "  Created wheel for docplex: filename=docplex-2.22.213-py3-none-any.whl size=696881 sha256=2a40fa7ed410e69cbfb11c48284a50f3cba42fd625c0a59a5880c2eaefb223ce\n",
            "  Stored in directory: /root/.cache/pip/wheels/90/69/6b/1375c68a5b7ff94c40263b151c86f58bd72200bf0c465b5ba3\n",
            "  Building wheel for python-constraint (setup.py) ... \u001b[?25l\u001b[?25hdone\n",
            "  Created wheel for python-constraint: filename=python_constraint-1.4.0-py2.py3-none-any.whl size=24081 sha256=814b20b761f92c0a9c59002e12ada1d7125a3d9f41dee77150d878b221674895\n",
            "  Stored in directory: /root/.cache/pip/wheels/07/27/db/1222c80eb1e431f3d2199c12569cb1cac60f562a451fe30479\n",
            "  Building wheel for yfinance (setup.py) ... \u001b[?25l\u001b[?25hdone\n",
            "  Created wheel for yfinance: filename=yfinance-0.1.63-py2.py3-none-any.whl size=23918 sha256=a7546fe19d53352f58ba13e85532597ae05c1c211c387a2f4c31d36a7ddf126a\n",
            "  Stored in directory: /root/.cache/pip/wheels/fe/87/8b/7ec24486e001d3926537f5f7801f57a74d181be25b11157983\n",
            "Successfully built qiskit dlx docplex python-constraint yfinance\n",
            "Installing collected packages: tweedledum, symengine, retworkx, python-constraint, ply, fastjsonschema, qiskit-terra, ntlm-auth, lxml, inflection, cryptography, yfinance, websocket-client, requests-ntlm, quandl, qiskit-ignis, pybind11, docplex, dlx, qiskit-ibmq-provider, qiskit-aqua, qiskit-aer, qiskit\n",
            "  Attempting uninstall: lxml\n",
            "    Found existing installation: lxml 4.2.6\n",
            "    Uninstalling lxml-4.2.6:\n",
            "      Successfully uninstalled lxml-4.2.6\n",
            "Successfully installed cryptography-3.4.8 dlx-1.0.4 docplex-2.22.213 fastjsonschema-2.15.1 inflection-0.5.1 lxml-4.6.3 ntlm-auth-1.5.0 ply-3.11 pybind11-2.7.1 python-constraint-1.4.0 qiskit-0.30.0 qiskit-aer-0.9.0 qiskit-aqua-0.9.5 qiskit-ibmq-provider-0.16.0 qiskit-ignis-0.6.0 qiskit-terra-0.18.2 quandl-3.6.1 requests-ntlm-1.1.0 retworkx-0.10.2 symengine-0.8.1 tweedledum-1.1.1 websocket-client-1.2.1 yfinance-0.1.63\n"
          ]
        },
        {
          "output_type": "display_data",
          "data": {
            "application/vnd.colab-display-data+json": {
              "pip_warning": {
                "packages": [
                  "lxml"
                ]
              }
            }
          },
          "metadata": {}
        }
      ]
    },
    {
      "cell_type": "code",
      "metadata": {
        "colab": {
          "base_uri": "https://localhost:8080/"
        },
        "id": "SQebTpLVh19B",
        "outputId": "a6393faa-a281-4b20-8228-2a39924c61b3"
      },
      "source": [
        "!pip install requests-html"
      ],
      "execution_count": 1,
      "outputs": [
        {
          "output_type": "stream",
          "name": "stdout",
          "text": [
            "Collecting requests-html\n",
            "  Downloading requests_html-0.10.0-py3-none-any.whl (13 kB)\n",
            "Collecting w3lib\n",
            "  Downloading w3lib-1.22.0-py2.py3-none-any.whl (20 kB)\n",
            "Collecting fake-useragent\n",
            "  Downloading fake-useragent-0.1.11.tar.gz (13 kB)\n",
            "Collecting pyquery\n",
            "  Downloading pyquery-1.4.3-py3-none-any.whl (22 kB)\n",
            "Requirement already satisfied: requests in /usr/local/lib/python3.7/dist-packages (from requests-html) (2.23.0)\n",
            "Collecting parse\n",
            "  Downloading parse-1.19.0.tar.gz (30 kB)\n",
            "Collecting pyppeteer>=0.0.14\n",
            "  Downloading pyppeteer-0.2.6-py3-none-any.whl (83 kB)\n",
            "\u001b[K     |████████████████████████████████| 83 kB 1.9 MB/s \n",
            "\u001b[?25hRequirement already satisfied: bs4 in /usr/local/lib/python3.7/dist-packages (from requests-html) (0.0.1)\n",
            "Collecting websockets<10.0,>=9.1\n",
            "  Downloading websockets-9.1-cp37-cp37m-manylinux2010_x86_64.whl (103 kB)\n",
            "\u001b[K     |████████████████████████████████| 103 kB 15.9 MB/s \n",
            "\u001b[?25hCollecting urllib3<2.0.0,>=1.25.8\n",
            "  Downloading urllib3-1.26.7-py2.py3-none-any.whl (138 kB)\n",
            "\u001b[K     |████████████████████████████████| 138 kB 19.6 MB/s \n",
            "\u001b[?25hCollecting pyee<9.0.0,>=8.1.0\n",
            "  Downloading pyee-8.2.2-py2.py3-none-any.whl (12 kB)\n",
            "Requirement already satisfied: tqdm<5.0.0,>=4.42.1 in /usr/local/lib/python3.7/dist-packages (from pyppeteer>=0.0.14->requests-html) (4.62.2)\n",
            "Requirement already satisfied: importlib-metadata>=1.4 in /usr/local/lib/python3.7/dist-packages (from pyppeteer>=0.0.14->requests-html) (4.8.1)\n",
            "Requirement already satisfied: appdirs<2.0.0,>=1.4.3 in /usr/local/lib/python3.7/dist-packages (from pyppeteer>=0.0.14->requests-html) (1.4.4)\n",
            "Requirement already satisfied: zipp>=0.5 in /usr/local/lib/python3.7/dist-packages (from importlib-metadata>=1.4->pyppeteer>=0.0.14->requests-html) (3.5.0)\n",
            "Requirement already satisfied: typing-extensions>=3.6.4 in /usr/local/lib/python3.7/dist-packages (from importlib-metadata>=1.4->pyppeteer>=0.0.14->requests-html) (3.7.4.3)\n",
            "Requirement already satisfied: beautifulsoup4 in /usr/local/lib/python3.7/dist-packages (from bs4->requests-html) (4.6.3)\n",
            "Collecting cssselect>0.7.9\n",
            "  Downloading cssselect-1.1.0-py2.py3-none-any.whl (16 kB)\n",
            "Requirement already satisfied: lxml>=2.1 in /usr/local/lib/python3.7/dist-packages (from pyquery->requests-html) (4.6.3)\n",
            "Collecting urllib3<2.0.0,>=1.25.8\n",
            "  Downloading urllib3-1.25.11-py2.py3-none-any.whl (127 kB)\n",
            "\u001b[K     |████████████████████████████████| 127 kB 33.7 MB/s \n",
            "\u001b[?25hRequirement already satisfied: certifi>=2017.4.17 in /usr/local/lib/python3.7/dist-packages (from requests->requests-html) (2021.5.30)\n",
            "Requirement already satisfied: chardet<4,>=3.0.2 in /usr/local/lib/python3.7/dist-packages (from requests->requests-html) (3.0.4)\n",
            "Requirement already satisfied: idna<3,>=2.5 in /usr/local/lib/python3.7/dist-packages (from requests->requests-html) (2.10)\n",
            "Requirement already satisfied: six>=1.4.1 in /usr/local/lib/python3.7/dist-packages (from w3lib->requests-html) (1.15.0)\n",
            "Building wheels for collected packages: fake-useragent, parse\n",
            "  Building wheel for fake-useragent (setup.py) ... \u001b[?25l\u001b[?25hdone\n",
            "  Created wheel for fake-useragent: filename=fake_useragent-0.1.11-py3-none-any.whl size=13502 sha256=e3dbdf0218a18892a5b5663533121847ab6f12c8d2a9c37bb1a0e7d659770d97\n",
            "  Stored in directory: /root/.cache/pip/wheels/ed/f7/62/50ab6c9a0b5567267ab76a9daa9d06315704209b2c5d032031\n",
            "  Building wheel for parse (setup.py) ... \u001b[?25l\u001b[?25hdone\n",
            "  Created wheel for parse: filename=parse-1.19.0-py3-none-any.whl size=24591 sha256=a6d3c6dc2b68a67a781900a9bff68bf79465745506a80206fd4ba47f5819ea9b\n",
            "  Stored in directory: /root/.cache/pip/wheels/9c/aa/cc/f2228050ccb40f22144b073f15a2c84f11204f29fc0dce028e\n",
            "Successfully built fake-useragent parse\n",
            "Installing collected packages: websockets, urllib3, pyee, cssselect, w3lib, pyquery, pyppeteer, parse, fake-useragent, requests-html\n",
            "  Attempting uninstall: urllib3\n",
            "    Found existing installation: urllib3 1.24.3\n",
            "    Uninstalling urllib3-1.24.3:\n",
            "      Successfully uninstalled urllib3-1.24.3\n",
            "\u001b[31mERROR: pip's dependency resolver does not currently take into account all the packages that are installed. This behaviour is the source of the following dependency conflicts.\n",
            "datascience 0.10.6 requires folium==0.2.1, but you have folium 0.8.3 which is incompatible.\u001b[0m\n",
            "Successfully installed cssselect-1.1.0 fake-useragent-0.1.11 parse-1.19.0 pyee-8.2.2 pyppeteer-0.2.6 pyquery-1.4.3 requests-html-0.10.0 urllib3-1.25.11 w3lib-1.22.0 websockets-9.1\n"
          ]
        }
      ]
    },
    {
      "cell_type": "code",
      "metadata": {
        "colab": {
          "base_uri": "https://localhost:8080/"
        },
        "id": "ikSRfGsLQ8UF",
        "outputId": "7bdff19a-ebf0-45d3-97a8-3318e53313aa"
      },
      "source": [
        "pip install requests-html"
      ],
      "execution_count": null,
      "outputs": [
        {
          "output_type": "stream",
          "name": "stdout",
          "text": [
            "Requirement already satisfied: requests-html in /usr/local/lib/python3.7/dist-packages (0.10.0)\n",
            "Requirement already satisfied: fake-useragent in /usr/local/lib/python3.7/dist-packages (from requests-html) (0.1.11)\n",
            "Requirement already satisfied: requests in /usr/local/lib/python3.7/dist-packages (from requests-html) (2.23.0)\n",
            "Requirement already satisfied: pyquery in /usr/local/lib/python3.7/dist-packages (from requests-html) (1.4.3)\n",
            "Requirement already satisfied: pyppeteer>=0.0.14 in /usr/local/lib/python3.7/dist-packages (from requests-html) (0.2.6)\n",
            "Requirement already satisfied: parse in /usr/local/lib/python3.7/dist-packages (from requests-html) (1.19.0)\n",
            "Requirement already satisfied: bs4 in /usr/local/lib/python3.7/dist-packages (from requests-html) (0.0.1)\n",
            "Requirement already satisfied: w3lib in /usr/local/lib/python3.7/dist-packages (from requests-html) (1.22.0)\n",
            "Requirement already satisfied: tqdm<5.0.0,>=4.42.1 in /usr/local/lib/python3.7/dist-packages (from pyppeteer>=0.0.14->requests-html) (4.62.2)\n",
            "Requirement already satisfied: websockets<10.0,>=9.1 in /usr/local/lib/python3.7/dist-packages (from pyppeteer>=0.0.14->requests-html) (9.1)\n",
            "Requirement already satisfied: importlib-metadata>=1.4 in /usr/local/lib/python3.7/dist-packages (from pyppeteer>=0.0.14->requests-html) (4.8.1)\n",
            "Requirement already satisfied: appdirs<2.0.0,>=1.4.3 in /usr/local/lib/python3.7/dist-packages (from pyppeteer>=0.0.14->requests-html) (1.4.4)\n",
            "Requirement already satisfied: urllib3<2.0.0,>=1.25.8 in /usr/local/lib/python3.7/dist-packages (from pyppeteer>=0.0.14->requests-html) (1.25.11)\n",
            "Requirement already satisfied: pyee<9.0.0,>=8.1.0 in /usr/local/lib/python3.7/dist-packages (from pyppeteer>=0.0.14->requests-html) (8.2.2)\n",
            "Requirement already satisfied: zipp>=0.5 in /usr/local/lib/python3.7/dist-packages (from importlib-metadata>=1.4->pyppeteer>=0.0.14->requests-html) (3.5.0)\n",
            "Requirement already satisfied: typing-extensions>=3.6.4 in /usr/local/lib/python3.7/dist-packages (from importlib-metadata>=1.4->pyppeteer>=0.0.14->requests-html) (3.7.4.3)\n",
            "Requirement already satisfied: beautifulsoup4 in /usr/local/lib/python3.7/dist-packages (from bs4->requests-html) (4.6.3)\n",
            "Requirement already satisfied: cssselect>0.7.9 in /usr/local/lib/python3.7/dist-packages (from pyquery->requests-html) (1.1.0)\n",
            "Requirement already satisfied: lxml>=2.1 in /usr/local/lib/python3.7/dist-packages (from pyquery->requests-html) (4.6.3)\n",
            "Requirement already satisfied: idna<3,>=2.5 in /usr/local/lib/python3.7/dist-packages (from requests->requests-html) (2.10)\n",
            "Requirement already satisfied: chardet<4,>=3.0.2 in /usr/local/lib/python3.7/dist-packages (from requests->requests-html) (3.0.4)\n",
            "Requirement already satisfied: certifi>=2017.4.17 in /usr/local/lib/python3.7/dist-packages (from requests->requests-html) (2021.5.30)\n",
            "Requirement already satisfied: six>=1.4.1 in /usr/local/lib/python3.7/dist-packages (from w3lib->requests-html) (1.15.0)\n"
          ]
        }
      ]
    },
    {
      "cell_type": "code",
      "metadata": {
        "id": "OXERW9FkN7NR",
        "colab": {
          "base_uri": "https://localhost:8080/"
        },
        "outputId": "3c6964d1-836c-4474-ca0b-373af424777e"
      },
      "source": [
        "#import packages\n",
        "from bs4 import BeautifulSoup\n",
        "import requests\n",
        "\n",
        "import nest_asyncio\n",
        "import pandas as pd\n",
        "import requests\n",
        "import re\n",
        "import json\n",
        "from requests_html import HTMLSession\n",
        "from requests_html import AsyncHTMLSession\n",
        "from urllib.parse import urlparse\n",
        "from urllib.parse import parse_qs\n",
        "from bs4 import BeautifulSoup\n",
        "import numpy as np\n",
        "import csv\n",
        "from google.colab import drive\n",
        "#drive.mount(\"/content/drive\")\n",
        "drive.mount(\"/content/drive\", force_remount=True)\n",
        "\n",
        "#open file\n",
        "f = open('drive/MyDrive/Colab Notebooks/Landservice.csv', \"w\", newline=\"\")\n",
        "\n",
        "  #create csv writer\n",
        "writer = csv.writer(f)\n",
        "\n",
        "  #write a row to the csv file\n",
        "headers = \"Name, Adresse\\n\"\n",
        "f.write(headers)\n",
        "\n",
        "\n"
      ],
      "execution_count": 81,
      "outputs": [
        {
          "output_type": "stream",
          "name": "stdout",
          "text": [
            "Mounted at /content/drive\n"
          ]
        },
        {
          "output_type": "execute_result",
          "data": {
            "text/plain": [
              "14"
            ]
          },
          "metadata": {},
          "execution_count": 81
        }
      ]
    },
    {
      "cell_type": "code",
      "metadata": {
        "id": "-6uXAO1nOF4H"
      },
      "source": [
        "#get search page\n",
        "source = requests.get(\"https://www.landservice.de/ls/start_bereich?land=D&ap=5&bernr=106&lstore=1&page=1\").text\n",
        "\n",
        "soup = BeautifulSoup(source, 'lxml')\n",
        "# print(soup.prettify())\n",
        "base_info=[]"
      ],
      "execution_count": 17,
      "outputs": []
    },
    {
      "cell_type": "code",
      "metadata": {
        "id": "igVQzBANNTxT",
        "colab": {
          "base_uri": "https://localhost:8080/"
        },
        "outputId": "e71aa248-6c5b-4af2-e29b-e6620c954872"
      },
      "source": [
        "#loop farms on search page\n",
        "\n",
        "urls =  []\n",
        "soup = BeautifulSoup(source, 'lxml')\n",
        "for containers in soup.find_all(class_=\"col-md-8\"):\n",
        "    try:\n",
        "      #array to store farm infos\n",
        "      base_farm=[]\n",
        "\n",
        "      #Get URL\n",
        "      base_url=\"https://www.landservice.de/ls/\"\n",
        "      url=containers.find(class_=\"col-md-12 weiterlesen\").a[\"href\"]\n",
        "      import_url=base_url+url\n",
        "      #print(import_url)\n",
        "      base_farm.append(import_url)\n",
        "\n",
        "      #Get Hofname\n",
        "      hofname = containers.find('div', class_=\"col-md-12 hofname\").text\n",
        "      #print(hofname)\n",
        "      base_farm.append(hofname)\n",
        "\n",
        "      urls.append(base_farm)\n",
        "    except:\n",
        "      print('error')\n",
        "\n",
        "for url in urls:\n",
        "  print(url)"
      ],
      "execution_count": 31,
      "outputs": [
        {
          "output_type": "stream",
          "name": "stdout",
          "text": [
            "error\n",
            "['https://www.landservice.de/ls/betrieb_detail?land=D&ap=5&bernr=106&adr_nr=DE0300001986&store=1', 'Café & Hofladen Gut Kinderhaus']\n",
            "['https://www.landservice.de/ls/betrieb_detail?land=D&ap=5&bernr=106&adr_nr=DE0300003106&store=1', 'Bauer Godde']\n",
            "['https://www.landservice.de/ls/betrieb_detail?land=D&ap=5&bernr=106&adr_nr=DE0300002706&store=1', 'Schäferei Brinkmann']\n",
            "['https://www.landservice.de/ls/betrieb_detail?land=D&ap=5&bernr=106&adr_nr=DE0300001588&store=1', \"Wernerhof Füngeling's Hofladen\"]\n",
            "['https://www.landservice.de/ls/betrieb_detail?land=D&ap=5&bernr=106&adr_nr=DE0300000638&store=1', 'Party-Service Hauwe']\n",
            "['https://www.landservice.de/ls/betrieb_detail?land=D&ap=5&bernr=106&adr_nr=DE0300000563&store=1', 'Obstplantagen Bloemersheim (Obstgarten J  B OHG)']\n",
            "['https://www.landservice.de/ls/betrieb_detail?land=D&ap=5&bernr=106&adr_nr=DE0300003911&store=1', 'Möllers Erdbeeren']\n",
            "['https://www.landservice.de/ls/betrieb_detail?land=D&ap=5&bernr=106&adr_nr=DE0300000173&store=1', 'Hof Grothues-Potthoff']\n",
            "['https://www.landservice.de/ls/betrieb_detail?land=D&ap=5&bernr=106&adr_nr=DE0300001145&store=1', 'Milchautomat Gut Steuwen']\n",
            "['https://www.landservice.de/ls/betrieb_detail?land=D&ap=5&bernr=106&adr_nr=DE0300002486&store=1', 'Gut Schobbenhaus']\n"
          ]
        }
      ]
    },
    {
      "cell_type": "markdown",
      "metadata": {
        "id": "-B-iaf7rPOEh"
      },
      "source": [
        "# **Scrape Farm Pages**"
      ]
    },
    {
      "cell_type": "markdown",
      "metadata": {
        "id": "fVoRDON58GA_"
      },
      "source": [
        "URL 1"
      ]
    },
    {
      "cell_type": "code",
      "metadata": {
        "colab": {
          "base_uri": "https://localhost:8080/"
        },
        "id": "bpeMK7sNO99D",
        "outputId": "a633e057-a3c9-4770-8c3d-4dd63e8155c4"
      },
      "source": [
        "#load page\n",
        "try:\n",
        "  test_url = urls[0][0]\n",
        "  print(test_url)\n",
        "\n",
        "#create session\n",
        "  session = HTMLSession()\n",
        "\n",
        "#make request\n",
        "  request = session.get(test_url)\n",
        "\n",
        "#cook soup\n",
        "  farm_soup = BeautifulSoup(request.html.html,\"html.parser\")\n",
        "\n",
        "#print(farm_soup.prettify())\n",
        "\n",
        "except:\n",
        "  print(error)"
      ],
      "execution_count": 44,
      "outputs": [
        {
          "output_type": "stream",
          "name": "stdout",
          "text": [
            "https://www.landservice.de/ls/betrieb_detail?land=D&ap=5&bernr=106&adr_nr=DE0300001986&store=1\n"
          ]
        }
      ]
    },
    {
      "cell_type": "code",
      "metadata": {
        "colab": {
          "base_uri": "https://localhost:8080/"
        },
        "id": "6B8cNLhvRn7q",
        "outputId": "a3f185b5-bbac-4200-b62a-7f3e3fc49fc7"
      },
      "source": [
        "#scraper\n",
        "try:\n",
        "  farm_soup = BeautifulSoup(request.html.html,\"html.parser\")\n",
        "  hofname = farm_soup.title\n",
        "#print(hofname.text)\n",
        "\n",
        "  adresse = farm_soup.find(class_=\"col-md-7\").find(class_=\"row\").text\n",
        "#print(adresse.prettify())\n",
        "  print(adresse)\n",
        "\n",
        "  web = farm_soup.find(target=\"TOP\").text\n",
        "  print(web)\n",
        "\n",
        "except:\n",
        "  print(error)"
      ],
      "execution_count": 45,
      "outputs": [
        {
          "output_type": "stream",
          "name": "stdout",
          "text": [
            "\n",
            "\n",
            "Café & Hofladen Gut Kinderhaus\n",
            "\r\n",
            "Gut Kinderhaus\r\n",
            "Am Max-Klemens-Kanal 19 \r\n",
            "48159 Münster  \r\n",
            "Tel.: 0251 9210334 (Laden)\r\n",
            "2. Tel.: 0251 9210330 (Café)\r\n",
            "Fax: 0251 9210332 (Café)\n",
            "hfkjErix2rzjsxyjw3ijwww.westfalenfleiss.de/gut-kinderhaus.html\n",
            "\n",
            "\n",
            "\n",
            "\n",
            "\n",
            "\n",
            "\n",
            "\n",
            "\n",
            "\n",
            "\n",
            "\n",
            "www.westfalenfleiss.de/gut-kinderhaus.html\n"
          ]
        }
      ]
    },
    {
      "cell_type": "markdown",
      "metadata": {
        "id": "kBLrxPZ09lGw"
      },
      "source": [
        "URL2"
      ]
    },
    {
      "cell_type": "code",
      "metadata": {
        "id": "QgZDcyhAQklJ",
        "colab": {
          "base_uri": "https://localhost:8080/"
        },
        "outputId": "57575b2e-1f86-4127-fa7d-445f52420288"
      },
      "source": [
        "#load page\n",
        "try:\n",
        "  test_url = urls[1][0]\n",
        "  print(test_url)\n",
        "\n",
        "#create session\n",
        "  session = HTMLSession()\n",
        "\n",
        "#make request\n",
        "  request = session.get(test_url)\n",
        "\n",
        "#cook soup\n",
        "  farm_soup = BeautifulSoup(request.html.html,\"html.parser\")\n",
        "\n",
        "#print(farm_soup.prettify())\n",
        "\n",
        "except:\n",
        "  print(error)\n"
      ],
      "execution_count": 46,
      "outputs": [
        {
          "output_type": "stream",
          "name": "stdout",
          "text": [
            "https://www.landservice.de/ls/betrieb_detail?land=D&ap=5&bernr=106&adr_nr=DE0300003106&store=1\n"
          ]
        }
      ]
    },
    {
      "cell_type": "code",
      "metadata": {
        "colab": {
          "base_uri": "https://localhost:8080/"
        },
        "id": "QVnC6QJmorGK",
        "outputId": "072ef666-31b2-4eb1-b188-044feb6dd3cd"
      },
      "source": [
        "#scraper2\n",
        "farm_soup = BeautifulSoup(request.html.html,\"html.parser\")\n",
        "hofname = farm_soup.title\n",
        "#print(hofname.text)\n",
        "\n",
        "adresse = farm_soup.find(class_=\"col-md-7\").find(class_=\"row\").text\n",
        "#print(adresse.prettify())\n",
        "print(adresse)"
      ],
      "execution_count": 47,
      "outputs": [
        {
          "output_type": "stream",
          "name": "stdout",
          "text": [
            "\n",
            "\n",
            "Bauer Godde\n",
            "\r\n",
            "Karl Godde\r\n",
            "Marpenstr. 29 \r\n",
            "45699 Herten  \r\n",
            "Tel.: 02366 506671\r\n",
            "Fax: 02366 506672\n",
            "pfwq2ltiijEy2tsqnsj3ijwww.bauer-godde.de\n",
            "\n",
            "\n",
            "\n",
            "\n",
            "\n",
            "\n",
            "\n",
            "\n",
            "\n",
            "\n",
            " \n",
            "\n"
          ]
        }
      ]
    },
    {
      "cell_type": "markdown",
      "metadata": {
        "id": "hlgre8ke97L_"
      },
      "source": [
        "URL3"
      ]
    },
    {
      "cell_type": "code",
      "metadata": {
        "colab": {
          "base_uri": "https://localhost:8080/"
        },
        "id": "Ah6TXhIv99L5",
        "outputId": "5c00fa6f-24a6-4e43-ce0c-cff957bad4bb"
      },
      "source": [
        "#load page\n",
        "try:\n",
        "  test_url = urls[2][0]\n",
        "  print(test_url)\n",
        "\n",
        "#create session\n",
        "  session = HTMLSession()\n",
        "\n",
        "#make request\n",
        "  request = session.get(test_url)\n",
        "\n",
        "#cook soup\n",
        "  farm_soup = BeautifulSoup(request.html.html,\"html.parser\")\n",
        "\n",
        "#print(farm_soup.prettify())\n",
        "\n",
        "except:\n",
        "  print(error)"
      ],
      "execution_count": 48,
      "outputs": [
        {
          "output_type": "stream",
          "name": "stdout",
          "text": [
            "https://www.landservice.de/ls/betrieb_detail?land=D&ap=5&bernr=106&adr_nr=DE0300002706&store=1\n"
          ]
        }
      ]
    },
    {
      "cell_type": "code",
      "metadata": {
        "colab": {
          "base_uri": "https://localhost:8080/"
        },
        "id": "usvuwVWr-ADP",
        "outputId": "01f9e834-b8e9-4499-9131-16d12625781c"
      },
      "source": [
        "#scraper3\n",
        "farm_soup = BeautifulSoup(request.html.html,\"html.parser\")\n",
        "hofname = farm_soup.title\n",
        "#print(hofname.text)\n",
        "\n",
        "adresse = farm_soup.find(class_=\"col-md-7\").find(class_=\"row\").text\n",
        "#print(adresse.prettify())\n",
        "print(adresse)"
      ],
      "execution_count": 49,
      "outputs": [
        {
          "output_type": "stream",
          "name": "stdout",
          "text": [
            "\n",
            "\n",
            "Schäferei Brinkmann\n",
            "\r\n",
            "Ernst Georg Brinkmann\r\n",
            "Bittinger Haarweg 10 \r\n",
            "59469 Ense-Bittingen  \r\n",
            "Tel.: 02928 621\r\n",
            "Fax: 02928 621\n",
            "rfnqExhmfjkjwjn2jwsxy2gwnsprfss3ijwww.schaeferei-ernst-brinkmann.de\n",
            "\n",
            "\n",
            "\n",
            "\n",
            "\n",
            "\n",
            "\n",
            "\n",
            "\n",
            "\n",
            "\n",
            "\n"
          ]
        }
      ]
    },
    {
      "cell_type": "markdown",
      "metadata": {
        "id": "22dnWSkl-Kwp"
      },
      "source": [
        "URL4"
      ]
    },
    {
      "cell_type": "code",
      "metadata": {
        "colab": {
          "base_uri": "https://localhost:8080/"
        },
        "id": "ZuZW4OcE-GOI",
        "outputId": "24585c8b-d6f9-4b4d-c88a-d76b92d5db4a"
      },
      "source": [
        "#load page\n",
        "try:\n",
        "  test_url = urls[3][0]\n",
        "  print(test_url)\n",
        "\n",
        "#create session\n",
        "  session = HTMLSession()\n",
        "\n",
        "#make request\n",
        "  request = session.get(test_url)\n",
        "\n",
        "#cook soup\n",
        "  farm_soup = BeautifulSoup(request.html.html,\"html.parser\")\n",
        "\n",
        "#print(farm_soup.prettify())\n",
        "\n",
        "except:\n",
        "  print(error)"
      ],
      "execution_count": 50,
      "outputs": [
        {
          "output_type": "stream",
          "name": "stdout",
          "text": [
            "https://www.landservice.de/ls/betrieb_detail?land=D&ap=5&bernr=106&adr_nr=DE0300001588&store=1\n"
          ]
        }
      ]
    },
    {
      "cell_type": "code",
      "metadata": {
        "colab": {
          "base_uri": "https://localhost:8080/"
        },
        "id": "2GQiFF1m-Qbf",
        "outputId": "d6f5a9e6-bfc0-4539-d560-62b67bc1f902"
      },
      "source": [
        "#scraper4\n",
        "farm_soup = BeautifulSoup(request.html.html,\"html.parser\")\n",
        "hofname = farm_soup.title\n",
        "#print(hofname.text)\n",
        "\n",
        "adresse = farm_soup.find(class_=\"col-md-7\").find(class_=\"row\").text\n",
        "#print(adresse.prettify())\n",
        "print(adresse)"
      ],
      "execution_count": 51,
      "outputs": [
        {
          "output_type": "stream",
          "name": "stdout",
          "text": [
            "\n",
            "\n",
            "Wernerhof Füngeling's Hofladen\n",
            "\r\n",
            "Martin Füngeling\r\n",
            "Im Kreuel 1 \r\n",
            "50354 Hürth  \r\n",
            "Tel.: 02233 31907\r\n",
            "Fax: 02233 37139\n",
            "nsktEkzjsljqnslxmtk3ijwww.fuengelingshof.de\n",
            "\n",
            "\n",
            "\n",
            "\n",
            "\n",
            "\n",
            "\n",
            "\n",
            "\n",
            "\n",
            " \n",
            "\n"
          ]
        }
      ]
    },
    {
      "cell_type": "markdown",
      "metadata": {
        "id": "NpMh4q9L-oi_"
      },
      "source": [
        "URL5"
      ]
    },
    {
      "cell_type": "code",
      "metadata": {
        "colab": {
          "base_uri": "https://localhost:8080/"
        },
        "id": "hzmFTrPY-qri",
        "outputId": "fc6abeea-5c40-4864-c13d-63953cc8f859"
      },
      "source": [
        "#load page\n",
        "try:\n",
        "  test_url = urls[4][0]\n",
        "  print(test_url)\n",
        "\n",
        "#create session\n",
        "  session = HTMLSession()\n",
        "\n",
        "#make request\n",
        "  request = session.get(test_url)\n",
        "\n",
        "#cook soup\n",
        "  farm_soup = BeautifulSoup(request.html.html,\"html.parser\")\n",
        "\n",
        "#print(farm_soup.prettify())\n",
        "\n",
        "except:\n",
        "  print(error)"
      ],
      "execution_count": 54,
      "outputs": [
        {
          "output_type": "stream",
          "name": "stdout",
          "text": [
            "https://www.landservice.de/ls/betrieb_detail?land=D&ap=5&bernr=106&adr_nr=DE0300000638&store=1\n"
          ]
        }
      ]
    },
    {
      "cell_type": "code",
      "metadata": {
        "colab": {
          "base_uri": "https://localhost:8080/"
        },
        "id": "zk_Dno_n-euV",
        "outputId": "e97d297e-454b-4a7b-ef9a-77081e985368"
      },
      "source": [
        "#scraper5\n",
        "farm_soup = BeautifulSoup(request.html.html,\"html.parser\")\n",
        "hofname = farm_soup.title\n",
        "#print(hofname.text)\n",
        "\n",
        "adresse = farm_soup.find(class_=\"col-md-7\").find(class_=\"row\").text\n",
        "#print(adresse.prettify())\n",
        "print(adresse)"
      ],
      "execution_count": 55,
      "outputs": [
        {
          "output_type": "stream",
          "name": "stdout",
          "text": [
            "\n",
            "\n",
            "Party-Service Hauwe\n",
            "\r\n",
            "Josef Hauwe e.K.\r\n",
            "Stemmbrückenstr. 40 \r\n",
            "45711 Datteln  \r\n",
            "Tel.: 02363 73252\r\n",
            "Mobil: 0172 2831466\r\n",
            "Fax: 02363 731253\n",
            "Ufwy~2Xjw{nhj2Mfz|jEy2tsqnsj3ijwww.party-service-hauwe.de\n",
            "\n",
            "\n",
            "\n",
            "\n",
            "\n",
            "\n",
            "\n",
            "\n",
            "\n",
            "\n",
            " \n",
            "\n"
          ]
        }
      ]
    },
    {
      "cell_type": "markdown",
      "metadata": {
        "id": "bCDapGnH-yjg"
      },
      "source": [
        "URL6"
      ]
    },
    {
      "cell_type": "code",
      "metadata": {
        "colab": {
          "base_uri": "https://localhost:8080/"
        },
        "id": "LtsR5mvV-2LY",
        "outputId": "6a8aa7ba-fb1b-449f-9f6e-de355ee5a30c"
      },
      "source": [
        "#load page\n",
        "try:\n",
        "  test_url = urls[5][0]\n",
        "  print(test_url)\n",
        "\n",
        "#create session\n",
        "  session = HTMLSession()\n",
        "\n",
        "#make request\n",
        "  request = session.get(test_url)\n",
        "\n",
        "#cook soup\n",
        "  farm_soup = BeautifulSoup(request.html.html,\"html.parser\")\n",
        "\n",
        "#print(farm_soup.prettify())\n",
        "\n",
        "except:\n",
        "  print(error)"
      ],
      "execution_count": 57,
      "outputs": [
        {
          "output_type": "stream",
          "name": "stdout",
          "text": [
            "https://www.landservice.de/ls/betrieb_detail?land=D&ap=5&bernr=106&adr_nr=DE0300000563&store=1\n"
          ]
        }
      ]
    },
    {
      "cell_type": "code",
      "metadata": {
        "colab": {
          "base_uri": "https://localhost:8080/"
        },
        "id": "Zx6K66DF-4_B",
        "outputId": "4544e654-f34b-40f4-9cb5-9104f8e2b6e0"
      },
      "source": [
        "#scraper6\n",
        "farm_soup = BeautifulSoup(request.html.html,\"html.parser\")\n",
        "hofname = farm_soup.title\n",
        "#print(hofname.text)\n",
        "\n",
        "adresse = farm_soup.find(class_=\"col-md-7\").find(class_=\"row\").text\n",
        "#print(adresse.prettify())\n",
        "print(adresse)"
      ],
      "execution_count": 58,
      "outputs": [
        {
          "output_type": "stream",
          "name": "stdout",
          "text": [
            "\n",
            "\n",
            "Obstplantagen Bloemersheim (Obstgarten J  B OHG)\n",
            "\r\n",
            "Jacqueline Huhndorf\r\n",
            "Bloemersheimer Weg 2 \r\n",
            "47506 Neukirchen-Vluyn  \r\n",
            "Mobil: 0151 22617691\n",
            "o3mzmsitwkEtgxylfwyjs3sjywww.obstplantagen-bloemersheim.de\n",
            "\n",
            "\n",
            "\n",
            "\n",
            "\n",
            "\n",
            "\n",
            "\n",
            "\n",
            "\n",
            " \n",
            "\n"
          ]
        }
      ]
    },
    {
      "cell_type": "markdown",
      "metadata": {
        "id": "RPK_W1uR_FLg"
      },
      "source": [
        "URL7"
      ]
    },
    {
      "cell_type": "code",
      "metadata": {
        "colab": {
          "base_uri": "https://localhost:8080/"
        },
        "id": "-r98YCPt_HBH",
        "outputId": "183ec4ca-425a-4ab2-dc2a-4aaec3d8f424"
      },
      "source": [
        "#load page\n",
        "try:\n",
        "  test_url = urls[6][0]\n",
        "  print(test_url)\n",
        "\n",
        "#create session\n",
        "  session = HTMLSession()\n",
        "\n",
        "#make request\n",
        "  request = session.get(test_url)\n",
        "\n",
        "#cook soup\n",
        "  farm_soup = BeautifulSoup(request.html.html,\"html.parser\")\n",
        "\n",
        "#print(farm_soup.prettify())\n",
        "\n",
        "except:\n",
        "  print(error)"
      ],
      "execution_count": 59,
      "outputs": [
        {
          "output_type": "stream",
          "name": "stdout",
          "text": [
            "https://www.landservice.de/ls/betrieb_detail?land=D&ap=5&bernr=106&adr_nr=DE0300003911&store=1\n"
          ]
        }
      ]
    },
    {
      "cell_type": "code",
      "metadata": {
        "colab": {
          "base_uri": "https://localhost:8080/"
        },
        "id": "ZH8s4Iqw_PNn",
        "outputId": "ce2ea276-0013-45d5-f0bd-fba97cc5cde9"
      },
      "source": [
        "#scraper7\n",
        "farm_soup = BeautifulSoup(request.html.html,\"html.parser\")\n",
        "hofname = farm_soup.title\n",
        "#print(hofname.text)\n",
        "\n",
        "adresse = farm_soup.find(class_=\"col-md-7\").find(class_=\"row\").text\n",
        "#print(adresse.prettify())\n",
        "print(adresse)"
      ],
      "execution_count": 60,
      "outputs": [
        {
          "output_type": "stream",
          "name": "stdout",
          "text": [
            "\n",
            "\n",
            "Möllers Erdbeeren\n",
            "\r\n",
            "Heinrich Möllers\r\n",
            "Wester 2 \r\n",
            "48607 Ochtrup  \r\n",
            "Tel.: 02553 98764\r\n",
            "Mobil: 0173 8622229\r\n",
            "Fax: 02553 98314\n",
            "rtjqqjwx2jwigjjwjsElr}3ij\n",
            "\n",
            "\n",
            "\n",
            "\n",
            "\n",
            "\n",
            "\n",
            "\n",
            "\n",
            " \n",
            "\n"
          ]
        }
      ]
    },
    {
      "cell_type": "markdown",
      "metadata": {
        "id": "4Ec7we4X_R_I"
      },
      "source": [
        "URL8"
      ]
    },
    {
      "cell_type": "code",
      "metadata": {
        "colab": {
          "base_uri": "https://localhost:8080/"
        },
        "id": "JMaulSQl_V__",
        "outputId": "2cab59a9-5d26-4d19-b591-dc2650584a39"
      },
      "source": [
        "#load page\n",
        "try:\n",
        "  test_url = urls[7][0]\n",
        "  print(test_url)\n",
        "\n",
        "#create session\n",
        "  session = HTMLSession()\n",
        "\n",
        "#make request\n",
        "  request = session.get(test_url)\n",
        "\n",
        "#cook soup\n",
        "  farm_soup = BeautifulSoup(request.html.html,\"html.parser\")\n",
        "\n",
        "#print(farm_soup.prettify())\n",
        "\n",
        "except:\n",
        "  print(error)"
      ],
      "execution_count": 61,
      "outputs": [
        {
          "output_type": "stream",
          "name": "stdout",
          "text": [
            "https://www.landservice.de/ls/betrieb_detail?land=D&ap=5&bernr=106&adr_nr=DE0300000173&store=1\n"
          ]
        }
      ]
    },
    {
      "cell_type": "code",
      "metadata": {
        "colab": {
          "base_uri": "https://localhost:8080/"
        },
        "id": "mUoV3eum_TJ_",
        "outputId": "4316b73f-0f06-4c6f-a265-d4f092a9a712"
      },
      "source": [
        "#scraper8\n",
        "farm_soup = BeautifulSoup(request.html.html,\"html.parser\")\n",
        "hofname = farm_soup.title\n",
        "#print(hofname.text)\n",
        "\n",
        "adresse = farm_soup.find(class_=\"col-md-7\").find(class_=\"row\").text\n",
        "#print(adresse.prettify())\n",
        "print(adresse)"
      ],
      "execution_count": 62,
      "outputs": [
        {
          "output_type": "stream",
          "name": "stdout",
          "text": [
            "\n",
            "\n",
            "Hof Grothues-Potthoff\n",
            "\r\n",
            "Familie Grothues-Potthoff\r\n",
            "Hof Grothues-Potthoff 4-6 \r\n",
            "48308 Senden  \r\n",
            "Tel.: 02597 696410\r\n",
            "2. Tel.: 02597 696420\r\n",
            "Fax: 02597 696415\n",
            "nsktEmtk2lwtymzjx2utyymtkk3ijwww.hof-grothues-potthoff.de\n",
            "\n",
            "\n",
            "\n",
            "\n",
            "\n",
            "\n",
            "\n",
            "\n",
            "\n",
            "\n",
            " \n",
            "\n"
          ]
        }
      ]
    },
    {
      "cell_type": "markdown",
      "metadata": {
        "id": "Iam6-fRX_de4"
      },
      "source": [
        "URL9"
      ]
    },
    {
      "cell_type": "code",
      "metadata": {
        "colab": {
          "base_uri": "https://localhost:8080/"
        },
        "id": "rMzAWJFo_bCP",
        "outputId": "9fdcfd9a-c211-414e-bda7-d9a15ab8cdb0"
      },
      "source": [
        "#load page\n",
        "try:\n",
        "  test_url = urls[8][0]\n",
        "  print(test_url)\n",
        "\n",
        "#create session\n",
        "  session = HTMLSession()\n",
        "\n",
        "#make request\n",
        "  request = session.get(test_url)\n",
        "\n",
        "#cook soup\n",
        "  farm_soup = BeautifulSoup(request.html.html,\"html.parser\")\n",
        "\n",
        "#print(farm_soup.prettify())\n",
        "\n",
        "except:\n",
        "  print(error)"
      ],
      "execution_count": 65,
      "outputs": [
        {
          "output_type": "stream",
          "name": "stdout",
          "text": [
            "https://www.landservice.de/ls/betrieb_detail?land=D&ap=5&bernr=106&adr_nr=DE0300001145&store=1\n"
          ]
        }
      ]
    },
    {
      "cell_type": "code",
      "metadata": {
        "colab": {
          "base_uri": "https://localhost:8080/"
        },
        "id": "gpnZ3DmC_hwE",
        "outputId": "6c317ed5-c0a8-4744-c93f-c02c0343444b"
      },
      "source": [
        "#scraper9\n",
        "farm_soup = BeautifulSoup(request.html.html,\"html.parser\")\n",
        "hofname = farm_soup.title\n",
        "#print(hofname.text)\n",
        "\n",
        "adresse = farm_soup.find(class_=\"col-md-7\").find(class_=\"row\").text\n",
        "#print(adresse.prettify())\n",
        "print(adresse)"
      ],
      "execution_count": 66,
      "outputs": [
        {
          "output_type": "stream",
          "name": "stdout",
          "text": [
            "\n",
            "\n",
            "Milchautomat Gut Steuwen\n",
            "\r\n",
            "Reiner und Trudi Geurden\r\n",
            "Boomdyk 69 \r\n",
            "47839 Krefeld-Hüls  \r\n",
            "Tel.: 02151 734780\r\n",
            "Mobil: 0173 7285520\r\n",
            "Fax: 02151 974870\n",
            "ywzin2ljzwijsEy2tsqnsj3ijwww.gutsteuwen.de\n",
            "\n",
            "\n",
            "\n",
            "\n",
            "\n",
            "\n",
            "\n",
            "\n",
            "\n",
            "\n",
            " \n",
            "\n"
          ]
        }
      ]
    },
    {
      "cell_type": "markdown",
      "metadata": {
        "id": "yglKsFRi_r4b"
      },
      "source": [
        "URL10"
      ]
    },
    {
      "cell_type": "code",
      "metadata": {
        "colab": {
          "base_uri": "https://localhost:8080/"
        },
        "id": "ZXdpwqPw_szh",
        "outputId": "488c9480-3ac8-43c9-e947-1553870e2809"
      },
      "source": [
        "#load page\n",
        "try:\n",
        "  test_url = urls[9][0]\n",
        "  print(test_url)\n",
        "\n",
        "#create session\n",
        "  session = HTMLSession()\n",
        "\n",
        "#make request\n",
        "  request = session.get(test_url)\n",
        "\n",
        "#cook soup\n",
        "  farm_soup = BeautifulSoup(request.html.html,\"html.parser\")\n",
        "\n",
        "#print(farm_soup.prettify())\n",
        "\n",
        "except:\n",
        "  print(error)"
      ],
      "execution_count": 67,
      "outputs": [
        {
          "output_type": "stream",
          "name": "stdout",
          "text": [
            "https://www.landservice.de/ls/betrieb_detail?land=D&ap=5&bernr=106&adr_nr=DE0300002486&store=1\n"
          ]
        }
      ]
    },
    {
      "cell_type": "code",
      "metadata": {
        "colab": {
          "base_uri": "https://localhost:8080/"
        },
        "id": "gLS6PeZ5_KE4",
        "outputId": "088b7c3e-fe05-4893-b6ca-aa4dd7b3819f"
      },
      "source": [
        "#scraper10\n",
        "farm_soup = BeautifulSoup(request.html.html,\"html.parser\")\n",
        "hofname = farm_soup.title\n",
        "#print(hofname.text)\n",
        "\n",
        "adresse = farm_soup.find(class_=\"col-md-7\").find(class_=\"row\").text\n",
        "#print(adresse.prettify())\n",
        "print(adresse)"
      ],
      "execution_count": 68,
      "outputs": [
        {
          "output_type": "stream",
          "name": "stdout",
          "text": [
            "\n",
            "\n",
            "Gut Schobbenhaus\n",
            "\r\n",
            "Johannes Kircher\r\n",
            "Außenbürgerschaft 20 \r\n",
            "40822 Mettmann  \r\n",
            "Tel.: 02104 952353\r\n",
            "Mobil: 0177 7429608\r\n",
            "Fax: 02104 952354\n",
            "mtkqfijsElzy2xhmtggjsmfzx3ijwww.gut-schobbenhaus.de\n",
            "\n",
            "\n",
            "\n",
            "\n",
            "\n",
            "\n",
            "\n",
            "\n",
            "\n",
            "\n",
            " \n",
            "\n"
          ]
        }
      ]
    },
    {
      "cell_type": "markdown",
      "metadata": {
        "id": "19PLPsILFCtH"
      },
      "source": [
        "Page2"
      ]
    },
    {
      "cell_type": "code",
      "metadata": {
        "id": "fE3x7RZOFDs-"
      },
      "source": [
        "#get search page\n",
        "source = requests.get(\"https://www.landservice.de/ls/start_bereich?land=D&ap=5&bernr=106&lstore=1&page=2\").text\n",
        "\n",
        "soup = BeautifulSoup(source, 'lxml')\n",
        "# print(soup.prettify())\n",
        "base_info=[]"
      ],
      "execution_count": 82,
      "outputs": []
    },
    {
      "cell_type": "code",
      "metadata": {
        "colab": {
          "base_uri": "https://localhost:8080/"
        },
        "id": "fwK0x3u5FKk_",
        "outputId": "0cf763d6-0311-43ac-a0b2-248911a433fc"
      },
      "source": [
        "#loop farms on search page\n",
        "\n",
        "urls =  []\n",
        "soup = BeautifulSoup(source, 'lxml')\n",
        "for containers in soup.find_all(class_=\"col-md-8\"):\n",
        "    try:\n",
        "      #array to store farm infos\n",
        "      base_farm=[]\n",
        "\n",
        "      #Get URL\n",
        "      base_url=\"https://www.landservice.de/ls/\"\n",
        "      url=containers.find(class_=\"col-md-12 weiterlesen\").a[\"href\"]\n",
        "      import_url=base_url+url\n",
        "      #print(import_url)\n",
        "      base_farm.append(import_url)\n",
        "\n",
        "      #Get Hofname\n",
        "      hofname = containers.find('div', class_=\"col-md-12 hofname\").text\n",
        "      #print(hofname)\n",
        "      base_farm.append(hofname)\n",
        "\n",
        "      urls.append(base_farm)\n",
        "    except:\n",
        "      print('error')\n",
        "\n",
        "for url in urls:\n",
        "  print(url)"
      ],
      "execution_count": 83,
      "outputs": [
        {
          "output_type": "stream",
          "name": "stdout",
          "text": [
            "error\n",
            "['https://www.landservice.de/ls/betrieb_detail?land=D&ap=5&bernr=106&adr_nr=DE0300002777&store=1', 'Nienaber Zuckerrübensirup']\n",
            "['https://www.landservice.de/ls/betrieb_detail?land=D&ap=5&bernr=106&adr_nr=DE0300004213&store=1', 'Hof Schering']\n",
            "['https://www.landservice.de/ls/betrieb_detail?land=D&ap=5&bernr=106&adr_nr=DE0300000166&store=1', 'Ferienhof Bals']\n",
            "['https://www.landservice.de/ls/betrieb_detail?land=D&ap=5&bernr=106&adr_nr=DE0300003114&store=1', 'Brunnenhof in der Ried']\n",
            "['https://www.landservice.de/ls/betrieb_detail?land=D&ap=5&bernr=106&adr_nr=DE0300001500&store=1', 'Bauernhof Schuh']\n",
            "['https://www.landservice.de/ls/betrieb_detail?land=D&ap=5&bernr=106&adr_nr=DE0300001105&store=1', 'Buschhof']\n",
            "['https://www.landservice.de/ls/betrieb_detail?land=D&ap=5&bernr=106&adr_nr=DE0300003562&store=1', 'Straußenfarm Emminghausen']\n",
            "['https://www.landservice.de/ls/betrieb_detail?land=D&ap=5&bernr=106&adr_nr=DE0300001870&store=1', 'Bioland Gemüsehof Weßling']\n",
            "['https://www.landservice.de/ls/betrieb_detail?land=D&ap=5&bernr=106&adr_nr=DE0300000359&store=1', 'Hof Lütke Laxen']\n",
            "['https://www.landservice.de/ls/betrieb_detail?land=D&ap=5&bernr=106&adr_nr=DE0300001310&store=1', 'Gahmener Hof GbR']\n"
          ]
        }
      ]
    },
    {
      "cell_type": "code",
      "metadata": {
        "colab": {
          "base_uri": "https://localhost:8080/",
          "height": 209
        },
        "id": "tIXQnxcwZCY6",
        "outputId": "57be0ccc-7c7c-421a-c60b-e4a034678031"
      },
      "source": [
        "f.write(\"Name: \"+ hofname + \" , \" + \"Adresse: \" + adresse + \"\\n\")\n",
        "\n",
        "f.close()"
      ],
      "execution_count": 39,
      "outputs": [
        {
          "output_type": "error",
          "ename": "TypeError",
          "evalue": "ignored",
          "traceback": [
            "\u001b[0;31m---------------------------------------------------------------------------\u001b[0m",
            "\u001b[0;31mTypeError\u001b[0m                                 Traceback (most recent call last)",
            "\u001b[0;32m<ipython-input-39-73f0b3750da4>\u001b[0m in \u001b[0;36m<module>\u001b[0;34m()\u001b[0m\n\u001b[0;32m----> 1\u001b[0;31m \u001b[0mf\u001b[0m\u001b[0;34m.\u001b[0m\u001b[0mwrite\u001b[0m\u001b[0;34m(\u001b[0m\u001b[0;34m\"Name: \"\u001b[0m\u001b[0;34m+\u001b[0m \u001b[0mhofname\u001b[0m \u001b[0;34m+\u001b[0m \u001b[0;34m\" , \"\u001b[0m \u001b[0;34m+\u001b[0m \u001b[0;34m\"Adresse: \"\u001b[0m \u001b[0;34m+\u001b[0m \u001b[0madresse\u001b[0m \u001b[0;34m+\u001b[0m \u001b[0;34m\"\\n\"\u001b[0m\u001b[0;34m)\u001b[0m\u001b[0;34m\u001b[0m\u001b[0;34m\u001b[0m\u001b[0m\n\u001b[0m\u001b[1;32m      2\u001b[0m \u001b[0;34m\u001b[0m\u001b[0m\n\u001b[1;32m      3\u001b[0m \u001b[0mf\u001b[0m\u001b[0;34m.\u001b[0m\u001b[0mclose\u001b[0m\u001b[0;34m(\u001b[0m\u001b[0;34m)\u001b[0m\u001b[0;34m\u001b[0m\u001b[0;34m\u001b[0m\u001b[0m\n",
            "\u001b[0;31mTypeError\u001b[0m: can only concatenate str (not \"Tag\") to str"
          ]
        }
      ]
    }
  ]
}